{
  "nbformat": 4,
  "nbformat_minor": 0,
  "metadata": {
    "colab": {
      "name": "Untitled",
      "provenance": [],
      "collapsed_sections": [],
      "authorship_tag": "ABX9TyNaJKbdv561m6sYI6sTM0bn",
      "include_colab_link": true
    },
    "kernelspec": {
      "name": "python3",
      "display_name": "Python 3"
    }
  },
  "cells": [
    {
      "cell_type": "markdown",
      "metadata": {
        "id": "view-in-github",
        "colab_type": "text"
      },
      "source": [
        "<a href=\"https://colab.research.google.com/github/jcmm518/GoogleColab/blob/main/Primer_algoritmo.ipynb\" target=\"_parent\"><img src=\"https://colab.research.google.com/assets/colab-badge.svg\" alt=\"Open In Colab\"/></a>"
      ]
    },
    {
      "cell_type": "code",
      "metadata": {
        "colab": {
          "base_uri": "https://localhost:8080/"
        },
        "id": "J6xmci3m4xm_",
        "outputId": "243b1b72-af36-4667-a8a6-fb2d9acc9340"
      },
      "source": [
        "def listas(a, b):\n",
        "    lista_final = []\n",
        "    for i in a:\n",
        "        if (i not in lista_final) and (i in b):\n",
        "            lista_final.append(i)\n",
        "    return lista_final\n",
        "\n",
        "lista = [1,2,6,7,12,13,15]\n",
        "lista2 = [2,3,4,7,13]\n",
        "res = listas(lista, lista2)\n",
        "print(res) "
      ],
      "execution_count": 6,
      "outputs": [
        {
          "output_type": "stream",
          "text": [
            "[2, 7, 13]\n"
          ],
          "name": "stdout"
        }
      ]
    }
  ]
}